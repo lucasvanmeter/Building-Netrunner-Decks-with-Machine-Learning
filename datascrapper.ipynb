{
 "cells": [
  {
   "cell_type": "code",
   "execution_count": 6,
   "metadata": {},
   "outputs": [],
   "source": [
    "import pandas as pd\n",
    "import numpy as np\n",
    "import requests\n",
    "import json"
   ]
  },
  {
   "cell_type": "code",
   "execution_count": 2,
   "metadata": {},
   "outputs": [],
   "source": [
    "#get list of cards from netrunnerdb\n",
    "f =  open('cards','w')\n",
    "r =  requests.get('https://netrunnerdb.com/api/2.0/public/cards')\n",
    "f.write(r.text)\n",
    "f.close()"
   ]
  },
  {
   "cell_type": "code",
   "execution_count": 5,
   "metadata": {},
   "outputs": [],
   "source": [
    "f =  open('decks','w')\n",
    "\n",
    "#make list of dates\n",
    "date1 = '2014-08-27'\n",
    "date2 = '2020-06-07'\n",
    "dates = pd.date_range(date1, date2).strftime('%Y-%m-%d')\n",
    "\n",
    "#we need to make a new json object containing each dates decklists json object\n",
    "f.write('{')\n",
    "\n",
    "#Write out into file \n",
    "for day in dates:\n",
    "    r =  requests.get('https://netrunnerdb.com/api/2.0/public/decklists/by_date/'+day)\n",
    "    f.write('\"'+day+'\": ['+r.text)\n",
    "    f.write('],')\n",
    "\n",
    "#last one hardcoded so there is not comma at the end...\n",
    "lastday='2020-06-08'\n",
    "r =  requests.get('https://netrunnerdb.com/api/2.0/public/decklists/by_date/'+lastday)\n",
    "f.write('\"'+lastday+'\": ['+r.text)\n",
    "f.write(']')\n",
    "\n",
    "#end the json object and close the file\n",
    "f.write('}')\n",
    "\n",
    "f.close()"
   ]
  },
  {
   "cell_type": "code",
   "execution_count": 13,
   "metadata": {},
   "outputs": [],
   "source": [
    "#create a pickle of cards database\n",
    "cards = pd.read_json (r'cards')\n",
    "cards = pd.json_normalize(cards['data'].values)\n",
    "\n",
    "#fix some of the card database\n",
    "cards['code'] = 'cards.'+cards['code']\n",
    "#Remove a card that does not appear in any decks from the dataframe of cards\n",
    "cards = cards[cards['code'] != 'cards.00012']"
   ]
  },
  {
   "cell_type": "code",
   "execution_count": 15,
   "metadata": {},
   "outputs": [],
   "source": [
    "#create a pickle of decks database\n",
    "df =  pd.read_json(r'decks')\n",
    "deck_list = pd.concat([pd.json_normalize(x)['data'] for x in df.values])\n",
    "mask = deck_list.map(lambda d: len(d)) > 0\n",
    "deck_list = deck_list[mask]\n",
    "decks = pd.concat([pd.json_normalize(x) for x in deck_list.values],sort=True,ignore_index=True)\n",
    "\n",
    "#drop the columns that I don't care about\n",
    "decks = decks.drop(['date_update','description','name','tournament_badge','user_id','user_name'],axis=1)\n",
    "decks = decks.fillna(0)\n",
    "\n",
    "#turn all of the deck numbers in np.int8 to reduce file size\n",
    "decks_float = decks.select_dtypes(include=['float'])\n",
    "converted = decks_float.astype(np.int8)\n",
    "decks[converted.columns] = converted\n",
    "\n",
    "#make list of idenity cards\n",
    "identity_cards = cards[cards['type_code'] == 'identity']\n",
    "#make two new features keep track of the idenity cards and the faction\n",
    "for ident in identity_cards['code']:\n",
    "    decks.loc[decks[ident]==1,'identity_card']=ident\n",
    "    decks.loc[decks[ident]==1,'faction']= cards[cards['code']==ident]['faction_code'].values[0]\n",
    "#delete old columns that corresponded to identiy cards\n",
    "decks = decks.drop(identity_cards['code'],axis=1)\n",
    "\n",
    "#clean up the last few columns types\n",
    "decks['id']=pd.to_numeric(decks['id'], downcast='integer')\n",
    "#decks.loc[:,'mwl_code':'faction'] = decks.loc[:,'mwl_code':'faction'].astype('category')\n",
    "decks['date_creation'] = pd.to_datetime(decks['date_creation'])\n",
    "\n",
    "#now I want to remove decks that are not really decks...the non-identity ones to start off\n",
    "decks = decks[decks['faction'] != 'neutral-runner']\n",
    "decks = decks[decks['faction'] != 'neutral-corp']\n",
    "\n",
    "#now remove the draft format decks\n",
    "draft_cards = ['cards.00005','cards.00006','cards.00007','cards.00008','cards.00009','cards.00010','cards.00011','cards.000013']\n",
    "decks = decks[~decks['identity_card'].isin(draft_cards)]"
   ]
  },
  {
   "cell_type": "code",
   "execution_count": 17,
   "metadata": {},
   "outputs": [],
   "source": [
    "cards.to_pickle('cards_processed.pkl')\n",
    "decks.to_pickle('decks_processed.pkl')"
   ]
  },
  {
   "cell_type": "code",
   "execution_count": null,
   "metadata": {},
   "outputs": [],
   "source": []
  }
 ],
 "metadata": {
  "kernelspec": {
   "display_name": "Python 3",
   "language": "python",
   "name": "python3"
  },
  "language_info": {
   "codemirror_mode": {
    "name": "ipython",
    "version": 3
   },
   "file_extension": ".py",
   "mimetype": "text/x-python",
   "name": "python",
   "nbconvert_exporter": "python",
   "pygments_lexer": "ipython3",
   "version": "3.7.7"
  }
 },
 "nbformat": 4,
 "nbformat_minor": 4
}
